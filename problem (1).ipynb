{
 "cells": [
  {
   "cell_type": "markdown",
   "metadata": {},
   "source": [
    "# Programming Test Conference room scheduling. \n",
    "### Find the nearest open conference room for a team in which a team can hold its meeting. \n",
    "\n",
    "Given n team members with the floor on which they work and the time\n",
    "they want to meet, and a list of conference rooms identified by their floor and room number as a decimal\n",
    "number, maximum number of people it fits and pairs of times they are open - find the best place for the\n",
    "team to have their meeting. If there is more than one room available that fits the team at the chosen time\n",
    "then the best place is on the floor the closest to where the team works. \n",
    "\n",
    "\n",
    "```E.g. rooms.txt\n",
    "7.11,8,9:00,9:15,14:30,15:00 8.23,6,10:00,11:00,14:00,15:00 8.43,7,11:30,12:30,17:00,17:30\n",
    "9.511,9,9:30,10:30,12:00,12:15,15:15,16:15 9.527,4,9:00,11:00,14:00,16:00\n",
    "9.547,8,10:30,11:30,13:30,15:30,16:30,17:30 \n",
    "```\n",
    "\n",
    "__Input__: 5,8,10:30,11:30 # 5 team members, located on the\n",
    "8th floor, meeting time 10:30 - 11:30 \n",
    "\n",
    "__Output__: 9.547"
   ]
  },
  {
   "cell_type": "code",
   "execution_count": 48,
   "metadata": {},
   "outputs": [],
   "source": [
    "import os.path\n",
    "from os import path\n",
    "closingTime = '18:00' # Assuming the meeting rooms are available till 6 PM in evening.\n",
    "\n",
    "class time: \n",
    "    def __init__(self, arg):\n",
    "        self.hour = int(arg.split(\":\")[0])\n",
    "        self.min = int(arg.split(\":\")[1])\n",
    "\n",
    "    def __eq__(self, other):\n",
    "        return self.hour == other.hour and self.min == other.min\n",
    "    \n",
    "    def __str__(self):\n",
    "        return \"{}:{}\".format(self.hour, self.min)\n",
    "    \n",
    "    def __ge__(self, other):\n",
    "        return self.hour>other.hour or (self.hour==other.hour and self.min>=other.min)\n",
    "\n",
    "    def __le__(self, other):\n",
    "        return self.hour<other.hour or (self.hour==other.hour and self.min<=other.min)\n",
    "\n",
    "    def add_duration(self, mins):\n",
    "        self.hour += int(mins/60)\n",
    "        self.min  += mins%60\n",
    "\n",
    "    def mins_diff(self, other):\n",
    "        return abs(self.hour-other.hour)*60+abs(self.min-other.min)\n",
    "    \n",
    "    \n",
    "def sample_loader():\n",
    "    '''Form a file if not present and read from the file...\n",
    "        Create a file..''' \n",
    "    default_room = \"7.11,8,9:00,9:15,14:30,15:00 8.23,6,10:00,11:00,14:00,15:00 8.43,7,11:30,12:30,17:00,17:30 9.511,9,9:30,10:30,12:00,12:15,15:15,16:15 9.527,4,9:00,11:00,14:00,16:00 9.547,8,10:30,11:30,13:30,15:30,16:30,17:30\"\n",
    "    default_file = \"room.txt\"\n",
    "    if not path.exists(default_file):\n",
    "        fp = open(default_file, \"w\")\n",
    "        fp.write(default_room)\n",
    "        fp.close()\n",
    "\n",
    "    fp = open(default_file, \"r\")\n",
    "    room = fp.read()\n",
    "    return room.split(\" \") # Split to see the all rooms that are available..."
   ]
  },
  {
   "cell_type": "code",
   "execution_count": 49,
   "metadata": {},
   "outputs": [],
   "source": [
    "def create_dataset():\n",
    "    ''' Form a list of tuples.\n",
    "        (Room Capacity, Room Floor, Start time of Availability, Duration of availability, room number) '''\n",
    "    dic = []\n",
    "    for room in sample_loader():\n",
    "        room = room.split(',')\n",
    "        roomNo = room[0] \n",
    "        roomCapacity = int(room[1]) \n",
    "        roomTimes = room[2:]\n",
    "        if len(roomTimes)!=0:\n",
    "            roomTimes.append(closingTime)\n",
    "            for ind in range(len(roomTimes)-1):\n",
    "                start = time(roomTimes[ind])\n",
    "                duration = start.mins_diff(time(roomTimes[ind+1]))\n",
    "                dic.append((roomCapacity, int(roomNo.split('.')[0]), start, duration, roomNo))\n",
    "    return dic"
   ]
  },
  {
   "cell_type": "code",
   "execution_count": 42,
   "metadata": {
    "scrolled": true
   },
   "outputs": [
    {
     "name": "stdout",
     "output_type": "stream",
     "text": [
      "Room nearest to the Input is :  9.547\n"
     ]
    }
   ],
   "source": [
    "# We can prioratize the meeting with capacity first, floor, Time, Duration...\n",
    "inp = \"5,8,10:30,11:30\"\n",
    "def find_the_meeting_room(inp):\n",
    "    inp_list = inp.split(',')\n",
    "    capacity = int(inp_list[0])\n",
    "    floor = int(inp_list[1])\n",
    "    start = time(inp_list[2])\n",
    "    duration = start.mins_diff(time(inp_list[3]))\n",
    "    # First we check for the capacity of the room, if capacity do not match we do not consider them for other calculations.\n",
    "    # Second we remove all the time which do not meet our criteria.. \n",
    "    dic = create_dataset()\n",
    "    dic = list(filter(lambda x:x[0] >= capacity and x[2]==start and x[3]>=duration, dic))\n",
    "    print(\"Room nearest to the Input is : \", sorted(dic, key = lambda x: (abs(x[1]-floor), abs(x[0]-capacity)))[0][-1])\n",
    "find_the_meeting_room(inp)    "
   ]
  },
  {
   "cell_type": "markdown",
   "metadata": {},
   "source": [
    "# Please explain: \n",
    "### how you solved the problem and how it would behave based on the different parameters __(number of team members, longer meeting times, many rooms with random booking times).__"
   ]
  },
  {
   "cell_type": "markdown",
   "metadata": {},
   "source": [
    "The solution to the problem lies on following assumptions:\n",
    "    * We are not only reserving rooms with the capacity to hold all it's memebers.\n",
    "    * The meeting rooms can not be booked after 6 PM. \n",
    "\n",
    "We first make tuple of different time and duration for which the room is avaialble. \n",
    "Structure of the tuple is as follow:\n",
    "\n",
    "``` tuple = (Room Capacity, Room Floor, Start time of Availability, Duration of availability, room number) ```\n",
    "\n",
    "__Please note__ The order of tuple is selected at random. \n",
    "\n",
    "With the list of such tuples we can iterate over the list to:\n",
    "    \n",
    "    > Filter all the meeting places which has less seats than required at input.\n",
    "    > Also filter the meeting places which do not match with start time of meeting.\n",
    "    > Then sort the remaining tuple with the first with the closest room and then based on the capacity. \n",
    "    > The room with the minimun distance and exact quantity of seats is returned by the program. "
   ]
  },
  {
   "cell_type": "markdown",
   "metadata": {},
   "source": [
    "## How would you test the program to ensure it always produced the correct results?\n",
    "Feel Free to fill here !!"
   ]
  },
  {
   "cell_type": "markdown",
   "metadata": {},
   "source": [
    "## Bonus Question.. \n",
    "\n",
    "For extra credit, can you improve the solution to split the meeting across more than one room if say only\n",
    "one room is available for a fraction of the meeting and another room is free later to hold the remainder of\n",
    "the meeting during the set time. If you want to make this more powerful - assume that the number of room\n",
    "splits can happen in proportion to the length of the meeting so that say if a meeting is 8 hrs long then the\n",
    "algorithm could schedule it across say up to 4 rooms if a single room was not available for the whole time."
   ]
  },
  {
   "cell_type": "code",
   "execution_count": 52,
   "metadata": {},
   "outputs": [],
   "source": [
    "inp = \"2,8,09:30,12:30\" \n",
    "def find_the_meeting_room(inp):\n",
    "    inp_list = inp.split(',')\n",
    "    capacity = int(inp_list[0])\n",
    "    floor = int(inp_list[1])\n",
    "    start = time(inp_list[2])\n",
    "    duration = start.mins_diff(time(inp_list[3]))\n",
    "    # First we check for the capacity of the room, if capacity do not match we do not consider them for other calculations.\n",
    "    # Second we remove all the time which do not meet our criteria.. \n",
    "    dic = create_dataset()\n",
    "    dic = list(filter(lambda x:x[0] >= capacity, dic))\n",
    "    while duration>0 and start<=time(closingTime):\n",
    "        dic = list(filter(lambda x:x[2] >= start, dic))\n",
    "        sorted_list = sorted(dic, key = lambda x: (abs(x[1]-floor), abs(x[0]-capacity)))\n",
    "        #print(sorted_list)\n",
    "        duration -= sorted_list[0][-2]\n",
    "        start.add_duration(sorted_list[0][-2])\n",
    "        #print(start, duration, sorted_list[0][-2])\n",
    "find_the_meeting_room(inp)"
   ]
  }
 ],
 "metadata": {
  "kernelspec": {
   "display_name": "Python 3",
   "language": "python",
   "name": "python3"
  },
  "language_info": {
   "codemirror_mode": {
    "name": "ipython",
    "version": 3
   },
   "file_extension": ".py",
   "mimetype": "text/x-python",
   "name": "python",
   "nbconvert_exporter": "python",
   "pygments_lexer": "ipython3",
   "version": "3.7.3"
  }
 },
 "nbformat": 4,
 "nbformat_minor": 4
}
